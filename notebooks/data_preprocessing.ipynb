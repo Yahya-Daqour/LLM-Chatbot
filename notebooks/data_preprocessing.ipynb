{
 "cells": [
  {
   "cell_type": "code",
   "execution_count": 1,
   "metadata": {},
   "outputs": [
    {
     "name": "stdout",
     "output_type": "stream",
     "text": [
      "Defaulting to user installation because normal site-packages is not writeable\n",
      "Collecting PyPDF2\n",
      "  Downloading pypdf2-3.0.1-py3-none-any.whl (232 kB)\n",
      "     |████████████████████████████████| 232 kB 810 kB/s            \n",
      "\u001b[?25hCollecting pdf2image\n",
      "  Downloading pdf2image-1.17.0-py3-none-any.whl (11 kB)\n",
      "Requirement already satisfied: Pillow in /usr/lib64/python3.10/site-packages (9.1.0)\n",
      "Collecting pytesseract\n",
      "  Downloading pytesseract-0.3.13-py3-none-any.whl (14 kB)\n",
      "Requirement already satisfied: packaging>=21.3 in /usr/lib/python3.10/site-packages (from pytesseract) (21.3)\n",
      "Requirement already satisfied: pyparsing!=3.0.5,>=2.0.2 in /usr/lib/python3.10/site-packages (from packaging>=21.3->pytesseract) (2.4.7)\n",
      "Installing collected packages: pytesseract, PyPDF2, pdf2image\n",
      "Successfully installed PyPDF2-3.0.1 pdf2image-1.17.0 pytesseract-0.3.13\n",
      "\u001b[33mWARNING: You are using pip version 21.3.1; however, version 24.3.1 is available.\n",
      "You should consider upgrading via the '/usr/bin/python3 -m pip install --upgrade pip' command.\u001b[0m\n"
     ]
    }
   ],
   "source": [
    "!pip install PyPDF2 pdf2image Pillow pytesseract"
   ]
  },
  {
   "cell_type": "markdown",
   "metadata": {},
   "source": [
    "### Extract text using OCR"
   ]
  },
  {
   "cell_type": "code",
   "execution_count": 3,
   "metadata": {},
   "outputs": [
    {
     "name": "stdout",
     "output_type": "stream",
     "text": [
      "Text extracted and written to JSON file.\n"
     ]
    }
   ],
   "source": [
    "import PyPDF2\n",
    "from pdf2image import convert_from_path\n",
    "from PIL import Image\n",
    "import pytesseract\n",
    "import json\n",
    "import os\n",
    "\n",
    "def extract_text_from_pdf(file_path):\n",
    "    \"\"\"\n",
    "    Extract text from a PDF file using OCR.\n",
    "\n",
    "    Args:\n",
    "        file_path (str): Path to the PDF file.\n",
    "\n",
    "    Returns:\n",
    "        str: Extracted text.\n",
    "    \"\"\"\n",
    "    # Convert PDF to images\n",
    "    images = convert_from_path(file_path)\n",
    "\n",
    "    # Initialize extracted text\n",
    "    extracted_text = \"\"\n",
    "\n",
    "    # Iterate over images and extract text using OCR\n",
    "    for i, image in enumerate(images):\n",
    "        # Save image to temporary file\n",
    "        temp_image_path = f\"temp_image_{i}.jpg\"\n",
    "        image.save(temp_image_path, \"JPEG\")\n",
    "\n",
    "        # Extract text using OCR\n",
    "        text = pytesseract.image_to_string(Image.open(temp_image_path))\n",
    "\n",
    "        # Append extracted text\n",
    "        extracted_text += text\n",
    "\n",
    "        # Remove temporary image file\n",
    "        os.remove(temp_image_path)\n",
    "\n",
    "    return extracted_text\n",
    "\n",
    "def write_to_json(file_path, data):\n",
    "    \"\"\"\n",
    "    Write data to a JSON file.\n",
    "\n",
    "    Args:\n",
    "        file_path (str): Path to the JSON file.\n",
    "        data (dict): Data to write.\n",
    "    \"\"\"\n",
    "    with open(file_path, \"w\") as f:\n",
    "        json.dump(data, f, indent=4)\n",
    "\n",
    "def main():\n",
    "    # Specify PDF file path\n",
    "    pdf_file_path = \"../data/books/Grade4A.pdf\"\n",
    "\n",
    "    # Specify JSON file path\n",
    "    json_file_path = \"../data/processed/extracted_text.json\"\n",
    "\n",
    "    # Extract text from PDF\n",
    "    extracted_text = extract_text_from_pdf(pdf_file_path)\n",
    "\n",
    "    # Create data dictionary\n",
    "    data = {\"extracted_text\": extracted_text}\n",
    "\n",
    "    # Write data to JSON file\n",
    "    write_to_json(json_file_path, data)\n",
    "\n",
    "    print(\"Text extracted and written to JSON file.\")\n",
    "\n",
    "if __name__ == \"__main__\":\n",
    "    main()"
   ]
  },
  {
   "cell_type": "markdown",
   "metadata": {},
   "source": [
    "### Extract text using the coversion of pdf to text"
   ]
  },
  {
   "cell_type": "code",
   "execution_count": 8,
   "metadata": {},
   "outputs": [],
   "source": [
    "import PyPDF2\n",
    "import json\n",
    "import re\n",
    "\n",
    "def clean_text(text):\n",
    "    # Remove newline characters and replace with spaces for better readability\n",
    "    text = text.replace('\\n', ' ').replace('\\r', '')\n",
    "    \n",
    "    # Remove special characters and numbers that are not part of words\n",
    "    text = re.sub(r'[^a-zA-Z\\s\\.]', '', text)\n",
    "    \n",
    "    # Remove extra spaces\n",
    "    text = re.sub(' +', ' ', text)\n",
    "    \n",
    "    return text.strip()\n",
    "\n",
    "\n",
    "# Create a list to store the extracted text\n",
    "text_list = []\n",
    "\n",
    "# Open the PDF file\n",
    "with open('../data/books/Grade4A.pdf', 'rb') as f:\n",
    "    pdf = PyPDF2.PdfReader(f)\n",
    "\n",
    "\n",
    "\n",
    "    # Iterate through each page in the PDF\n",
    "    for page in pdf.pages:\n",
    "        # Extract the text from the page\n",
    "        text = page.extract_text()\n",
    "        # Clean text\n",
    "        text = clean_text(text)\n",
    "        # Add the text to the list\n",
    "        text_list.append(text)\n",
    "\n",
    "# Create a JSON object to store the extracted text\n",
    "json_data = {'text': text_list}\n",
    "\n",
    "# Write the JSON object to a file\n",
    "with open('../data/processed/extracted_text.json', 'w') as f:\n",
    "    json.dump(json_data, f, indent=4)"
   ]
  },
  {
   "cell_type": "code",
   "execution_count": 9,
   "metadata": {},
   "outputs": [
    {
     "name": "stdout",
     "output_type": "stream",
     "text": [
      "Processed Grade4A.pdf and saved to Grade4A.json\n",
      "Processed Grade4B.pdf and saved to Grade4B.json\n",
      "Processed Grade5A.pdf and saved to Grade5A.json\n",
      "Processed Grade5B.pdf and saved to Grade5B.json\n"
     ]
    }
   ],
   "source": [
    "import PyPDF2\n",
    "import json\n",
    "import re\n",
    "import os\n",
    "\n",
    "def clean_text(text):\n",
    "    # Remove newline characters and replace with spaces for better readability\n",
    "    text = text.replace('\\n', ' ').replace('\\r', '')\n",
    "    \n",
    "    # Remove special characters and numbers that are not part of words\n",
    "    text = re.sub(r'[^a-zA-Z\\s\\.]', '', text)\n",
    "    \n",
    "    # Remove extra spaces\n",
    "    text = re.sub(' +', ' ', text)\n",
    "    \n",
    "    return text.strip()\n",
    "\n",
    "# Define the input and output directories\n",
    "input_dir = '../data/books'\n",
    "output_dir = '../data/processed'\n",
    "\n",
    "# Create the output directory if it doesn't exist\n",
    "if not os.path.exists(output_dir):\n",
    "    os.makedirs(output_dir)\n",
    "\n",
    "# Loop over each file in the input directory\n",
    "for filename in os.listdir(input_dir):\n",
    "    if filename.endswith('.pdf'):\n",
    "        # Create a list to store the extracted text\n",
    "        text_list = []\n",
    "\n",
    "        # Open the PDF file\n",
    "        with open(os.path.join(input_dir, filename), 'rb') as f:\n",
    "            pdf = PyPDF2.PdfReader(f)\n",
    "\n",
    "            # Iterate through each page in the PDF\n",
    "            for page in pdf.pages:\n",
    "                # Extract the text from the page\n",
    "                text = page.extract_text()\n",
    "                # Clean text\n",
    "                text = clean_text(text)\n",
    "                # Add the text to the list\n",
    "                text_list.append(text)\n",
    "\n",
    "        # Create a JSON object to store the extracted text\n",
    "        json_data = {'text': text_list}\n",
    "\n",
    "        # Write the JSON object to a file\n",
    "        output_filename = os.path.splitext(filename)[0] + '.json'\n",
    "        with open(os.path.join(output_dir, output_filename), 'w') as f:\n",
    "            json.dump(json_data, f, indent=4)\n",
    "        print(f\"Processed {filename} and saved to {output_filename}\")"
   ]
  }
 ],
 "metadata": {
  "kernelspec": {
   "display_name": "usr",
   "language": "python",
   "name": "python3"
  },
  "language_info": {
   "codemirror_mode": {
    "name": "ipython",
    "version": 3
   },
   "file_extension": ".py",
   "mimetype": "text/x-python",
   "name": "python",
   "nbconvert_exporter": "python",
   "pygments_lexer": "ipython3",
   "version": "3.10.11"
  }
 },
 "nbformat": 4,
 "nbformat_minor": 2
}
